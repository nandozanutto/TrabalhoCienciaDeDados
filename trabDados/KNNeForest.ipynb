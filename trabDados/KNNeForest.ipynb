{
 "cells": [
  {
   "cell_type": "code",
   "execution_count": 67,
   "id": "c6b99283",
   "metadata": {},
   "outputs": [],
   "source": [
    "import pandas as pd\n",
    "import numpy as np\n",
    "import matplotlib.pyplot as plt\n",
    "import seaborn as sns\n",
    "\n",
    "from sklearn import preprocessing, model_selection, neighbors\n",
    "from sklearn.preprocessing import StandardScaler\n",
    "\n",
    "from mlxtend.plotting import plot_decision_regions"
   ]
  },
  {
   "cell_type": "code",
   "execution_count": 51,
   "id": "988ae444",
   "metadata": {},
   "outputs": [
    {
     "data": {
      "text/html": [
       "<div>\n",
       "<style scoped>\n",
       "    .dataframe tbody tr th:only-of-type {\n",
       "        vertical-align: middle;\n",
       "    }\n",
       "\n",
       "    .dataframe tbody tr th {\n",
       "        vertical-align: top;\n",
       "    }\n",
       "\n",
       "    .dataframe thead th {\n",
       "        text-align: right;\n",
       "    }\n",
       "</style>\n",
       "<table border=\"1\" class=\"dataframe\">\n",
       "  <thead>\n",
       "    <tr style=\"text-align: right;\">\n",
       "      <th></th>\n",
       "      <th>Unnamed: 0</th>\n",
       "      <th>File</th>\n",
       "      <th>bodyLength</th>\n",
       "      <th>bscr</th>\n",
       "      <th>dse</th>\n",
       "      <th>dsr</th>\n",
       "      <th>entropy</th>\n",
       "      <th>hasHttp</th>\n",
       "      <th>hasHttps</th>\n",
       "      <th>has_ip</th>\n",
       "      <th>...</th>\n",
       "      <th>numParams</th>\n",
       "      <th>numTitles</th>\n",
       "      <th>num_%20</th>\n",
       "      <th>num_@</th>\n",
       "      <th>sbr</th>\n",
       "      <th>scriptLength</th>\n",
       "      <th>specialChars</th>\n",
       "      <th>sscr</th>\n",
       "      <th>urlIsLive</th>\n",
       "      <th>urlLength</th>\n",
       "    </tr>\n",
       "  </thead>\n",
       "  <tbody>\n",
       "    <tr>\n",
       "      <th>0</th>\n",
       "      <td>0</td>\n",
       "      <td>spam_dataset</td>\n",
       "      <td>31</td>\n",
       "      <td>0.064516</td>\n",
       "      <td>0</td>\n",
       "      <td>0</td>\n",
       "      <td>-4.708307</td>\n",
       "      <td>True</td>\n",
       "      <td>False</td>\n",
       "      <td>0</td>\n",
       "      <td>...</td>\n",
       "      <td>0</td>\n",
       "      <td>0</td>\n",
       "      <td>0</td>\n",
       "      <td>0</td>\n",
       "      <td>0.000000</td>\n",
       "      <td>0</td>\n",
       "      <td>2</td>\n",
       "      <td>0.000000</td>\n",
       "      <td>False</td>\n",
       "      <td>81</td>\n",
       "    </tr>\n",
       "    <tr>\n",
       "      <th>1</th>\n",
       "      <td>1</td>\n",
       "      <td>spam_dataset</td>\n",
       "      <td>64790</td>\n",
       "      <td>0.306050</td>\n",
       "      <td>0</td>\n",
       "      <td>0</td>\n",
       "      <td>-4.576882</td>\n",
       "      <td>True</td>\n",
       "      <td>False</td>\n",
       "      <td>0</td>\n",
       "      <td>...</td>\n",
       "      <td>0</td>\n",
       "      <td>19</td>\n",
       "      <td>0</td>\n",
       "      <td>0</td>\n",
       "      <td>0.923800</td>\n",
       "      <td>59853</td>\n",
       "      <td>19829</td>\n",
       "      <td>3.018458</td>\n",
       "      <td>False</td>\n",
       "      <td>58</td>\n",
       "    </tr>\n",
       "    <tr>\n",
       "      <th>2</th>\n",
       "      <td>2</td>\n",
       "      <td>spam_dataset</td>\n",
       "      <td>757</td>\n",
       "      <td>0.195509</td>\n",
       "      <td>0</td>\n",
       "      <td>0</td>\n",
       "      <td>-4.205536</td>\n",
       "      <td>True</td>\n",
       "      <td>False</td>\n",
       "      <td>0</td>\n",
       "      <td>...</td>\n",
       "      <td>0</td>\n",
       "      <td>1</td>\n",
       "      <td>0</td>\n",
       "      <td>0</td>\n",
       "      <td>0.000000</td>\n",
       "      <td>0</td>\n",
       "      <td>148</td>\n",
       "      <td>0.000000</td>\n",
       "      <td>False</td>\n",
       "      <td>46</td>\n",
       "    </tr>\n",
       "    <tr>\n",
       "      <th>3</th>\n",
       "      <td>3</td>\n",
       "      <td>spam_dataset</td>\n",
       "      <td>266310</td>\n",
       "      <td>0.230915</td>\n",
       "      <td>0</td>\n",
       "      <td>0</td>\n",
       "      <td>-4.550931</td>\n",
       "      <td>True</td>\n",
       "      <td>False</td>\n",
       "      <td>0</td>\n",
       "      <td>...</td>\n",
       "      <td>0</td>\n",
       "      <td>648</td>\n",
       "      <td>0</td>\n",
       "      <td>0</td>\n",
       "      <td>0.312647</td>\n",
       "      <td>83261</td>\n",
       "      <td>61495</td>\n",
       "      <td>1.353947</td>\n",
       "      <td>False</td>\n",
       "      <td>52</td>\n",
       "    </tr>\n",
       "    <tr>\n",
       "      <th>4</th>\n",
       "      <td>4</td>\n",
       "      <td>spam_dataset</td>\n",
       "      <td>40</td>\n",
       "      <td>0.200000</td>\n",
       "      <td>0</td>\n",
       "      <td>0</td>\n",
       "      <td>-4.689336</td>\n",
       "      <td>True</td>\n",
       "      <td>False</td>\n",
       "      <td>0</td>\n",
       "      <td>...</td>\n",
       "      <td>2</td>\n",
       "      <td>1</td>\n",
       "      <td>0</td>\n",
       "      <td>0</td>\n",
       "      <td>0.000000</td>\n",
       "      <td>0</td>\n",
       "      <td>8</td>\n",
       "      <td>0.000000</td>\n",
       "      <td>False</td>\n",
       "      <td>83</td>\n",
       "    </tr>\n",
       "  </tbody>\n",
       "</table>\n",
       "<p>5 rows × 23 columns</p>\n",
       "</div>"
      ],
      "text/plain": [
       "   Unnamed: 0          File  bodyLength      bscr  dse  dsr   entropy  \\\n",
       "0           0  spam_dataset          31  0.064516    0    0 -4.708307   \n",
       "1           1  spam_dataset       64790  0.306050    0    0 -4.576882   \n",
       "2           2  spam_dataset         757  0.195509    0    0 -4.205536   \n",
       "3           3  spam_dataset      266310  0.230915    0    0 -4.550931   \n",
       "4           4  spam_dataset          40  0.200000    0    0 -4.689336   \n",
       "\n",
       "   hasHttp  hasHttps  has_ip  ...  numParams  numTitles  num_%20  num_@  \\\n",
       "0     True     False       0  ...          0          0        0      0   \n",
       "1     True     False       0  ...          0         19        0      0   \n",
       "2     True     False       0  ...          0          1        0      0   \n",
       "3     True     False       0  ...          0        648        0      0   \n",
       "4     True     False       0  ...          2          1        0      0   \n",
       "\n",
       "        sbr  scriptLength  specialChars      sscr  urlIsLive  urlLength  \n",
       "0  0.000000             0             2  0.000000      False         81  \n",
       "1  0.923800         59853         19829  3.018458      False         58  \n",
       "2  0.000000             0           148  0.000000      False         46  \n",
       "3  0.312647         83261         61495  1.353947      False         52  \n",
       "4  0.000000             0             8  0.000000      False         83  \n",
       "\n",
       "[5 rows x 23 columns]"
      ]
     },
     "metadata": {},
     "output_type": "display_data"
    }
   ],
   "source": [
    "df = pd.read_csv(r\"C:\\Users\\Jeff\\Desktop\\data\\dados.csv.txt\")\n",
    "display(df.head())"
   ]
  },
  {
   "cell_type": "code",
   "execution_count": 52,
   "id": "326fffa2",
   "metadata": {},
   "outputs": [],
   "source": [
    "df.replace(True,1,inplace = True)\n",
    "df.replace(False,0,inplace = True)"
   ]
  },
  {
   "cell_type": "code",
   "execution_count": 53,
   "id": "d5a24694",
   "metadata": {},
   "outputs": [],
   "source": [
    "y = df[\"File\"]\n",
    "df = df.drop(columns = \"File\")"
   ]
  },
  {
   "cell_type": "code",
   "execution_count": 64,
   "id": "7e6b6886",
   "metadata": {},
   "outputs": [],
   "source": [
    "encoder = LabelEncoder()    \n",
    "encoder.fit(y)    \n",
    "Y = encoder.transform(y)\n",
    "\n",
    "scaler = MinMaxScaler(feature_range=(0, 1))    \n",
    " \n",
    "X = pd.DataFrame(scaler.fit_transform(df))"
   ]
  },
  {
   "cell_type": "code",
   "execution_count": 65,
   "id": "cc77ec0a",
   "metadata": {},
   "outputs": [],
   "source": [
    "X_train, X_test, y_train, y_test = model_selection.train_test_split(X, Y, test_size = 0.2, random_state = 42)"
   ]
  },
  {
   "cell_type": "code",
   "execution_count": 68,
   "id": "0e32e198",
   "metadata": {},
   "outputs": [],
   "source": [
    "sc_X = StandardScaler()\n",
    "X_train = sc_X.fit_transform(X_train)\n",
    "X_test = sc_X.transform(X_test)"
   ]
  },
  {
   "cell_type": "code",
   "execution_count": 146,
   "id": "97091263",
   "metadata": {},
   "outputs": [],
   "source": [
    "clf = neighbors.KNeighborsClassifier(n_neighbors=5)"
   ]
  },
  {
   "cell_type": "code",
   "execution_count": 147,
   "id": "cac90350",
   "metadata": {},
   "outputs": [
    {
     "data": {
      "text/plain": [
       "KNeighborsClassifier()"
      ]
     },
     "execution_count": 147,
     "metadata": {},
     "output_type": "execute_result"
    }
   ],
   "source": [
    "clf.fit(X_train, y_train)"
   ]
  },
  {
   "cell_type": "code",
   "execution_count": 148,
   "id": "f310efe7",
   "metadata": {},
   "outputs": [],
   "source": [
    "y_pred = clf.predict(X_test)"
   ]
  },
  {
   "cell_type": "code",
   "execution_count": 125,
   "id": "3e5815ea",
   "metadata": {},
   "outputs": [
    {
     "data": {
      "text/plain": [
       "0.9012560740808655"
      ]
     },
     "execution_count": 125,
     "metadata": {},
     "output_type": "execute_result"
    }
   ],
   "source": [
    "accuracy = clf.score(X_test, y_test)\n",
    "accuracy"
   ]
  },
  {
   "cell_type": "code",
   "execution_count": 128,
   "id": "407c0707",
   "metadata": {},
   "outputs": [],
   "source": [
    "from sklearn.metrics import classification_report"
   ]
  },
  {
   "cell_type": "code",
   "execution_count": 206,
   "id": "d752d423",
   "metadata": {},
   "outputs": [],
   "source": [
    "yu = y.unique()"
   ]
  },
  {
   "cell_type": "markdown",
   "id": "c05983cd",
   "metadata": {},
   "source": [
    "# Métricas do modelo KNN"
   ]
  },
  {
   "cell_type": "code",
   "execution_count": 149,
   "id": "12d33870",
   "metadata": {},
   "outputs": [
    {
     "name": "stdout",
     "output_type": "stream",
     "text": [
      "                       precision    recall  f1-score   support\n",
      "\n",
      "         spam_dataset       0.94      0.94      0.94      2167\n",
      "Benign_list_big_final       0.85      0.79      0.82      1998\n",
      "     phishing_dataset       0.92      0.96      0.94      2273\n",
      "      Malware_dataset       0.89      0.91      0.90      2013\n",
      "           Defacement       0.91      0.90      0.90      2456\n",
      "\n",
      "             accuracy                           0.90     10907\n",
      "            macro avg       0.90      0.90      0.90     10907\n",
      "         weighted avg       0.90      0.90      0.90     10907\n",
      "\n"
     ]
    }
   ],
   "source": [
    "print(classification_report(y_test, y_pred, target_names=yu))"
   ]
  },
  {
   "cell_type": "code",
   "execution_count": 150,
   "id": "e56b3b6d",
   "metadata": {},
   "outputs": [],
   "source": [
    "from sklearn.metrics import confusion_matrix"
   ]
  },
  {
   "cell_type": "markdown",
   "id": "2d13064d",
   "metadata": {},
   "source": [
    "# Matriz confusão KNN"
   ]
  },
  {
   "cell_type": "code",
   "execution_count": 157,
   "id": "2c14c8eb",
   "metadata": {},
   "outputs": [
    {
     "data": {
      "text/plain": [
       "<AxesSubplot:>"
      ]
     },
     "execution_count": 157,
     "metadata": {},
     "output_type": "execute_result"
    },
    {
     "data": {
      "image/png": "[encoded data removed]",
      "text/plain": [
       "<Figure size 720x360 with 2 Axes>"
      ]
     },
     "metadata": {
      "needs_background": "light"
     },
     "output_type": "display_data"
    }
   ],
   "source": [
    "MC = confusion_matrix(y_test, y_pred)\n",
    "plt.figure(figsize=(10,5))\n",
    "sns.heatmap(MC, annot=True)"
   ]
  },
  {
   "cell_type": "code",
   "execution_count": 187,
   "id": "f79e4185",
   "metadata": {},
   "outputs": [],
   "source": [
    "from sklearn.ensemble import RandomForestClassifier"
   ]
  },
  {
   "cell_type": "code",
   "execution_count": 186,
   "id": "a82077ba",
   "metadata": {},
   "outputs": [
    {
     "data": {
      "text/plain": [
       "RandomForestClassifier(max_features=5, n_estimators=500)"
      ]
     },
     "execution_count": 186,
     "metadata": {},
     "output_type": "execute_result"
    }
   ],
   "source": [
    "rf = RandomForestClassifier(max_features=5, n_estimators=500)\n",
    "rf.fit(X_train, y_train)"
   ]
  },
  {
   "cell_type": "code",
   "execution_count": 189,
   "id": "3aa5625f",
   "metadata": {},
   "outputs": [],
   "source": [
    "rf_pred = rf.predict(X_test)"
   ]
  },
  {
   "cell_type": "markdown",
   "id": "ccd7f936",
   "metadata": {},
   "source": [
    "# Métricas Random Forest"
   ]
  },
  {
   "cell_type": "code",
   "execution_count": 190,
   "id": "f62687c5",
   "metadata": {},
   "outputs": [
    {
     "name": "stdout",
     "output_type": "stream",
     "text": [
      "                       precision    recall  f1-score   support\n",
      "\n",
      "         spam_dataset       0.99      0.98      0.98      2167\n",
      "Benign_list_big_final       0.89      0.92      0.90      1998\n",
      "     phishing_dataset       0.98      0.99      0.98      2273\n",
      "      Malware_dataset       0.95      0.93      0.94      2013\n",
      "           Defacement       0.96      0.94      0.95      2456\n",
      "\n",
      "             accuracy                           0.95     10907\n",
      "            macro avg       0.95      0.95      0.95     10907\n",
      "         weighted avg       0.95      0.95      0.95     10907\n",
      "\n"
     ]
    }
   ],
   "source": [
    "print(classification_report(y_test, rf_pred, target_names=yu))"
   ]
  },
  {
   "cell_type": "markdown",
   "id": "82b4ea3d",
   "metadata": {},
   "source": [
    "# Matriz confusão Random Forest"
   ]
  },
  {
   "cell_type": "code",
   "execution_count": 191,
   "id": "d9ea88f7",
   "metadata": {},
   "outputs": [
    {
     "data": {
      "text/plain": [
       "<AxesSubplot:>"
      ]
     },
     "execution_count": 191,
     "metadata": {},
     "output_type": "execute_result"
    },
    {
     "data": {
      "image/png": "[encoded data removed]",
      "text/plain": [
       "<Figure size 720x360 with 2 Axes>"
      ]
     },
     "metadata": {
      "needs_background": "light"
     },
     "output_type": "display_data"
    }
   ],
   "source": [
    "MC_rf = confusion_matrix(y_test, rf_pred)\n",
    "plt.figure(figsize=(10,5))\n",
    "sns.heatmap(MC_rf, annot=True)"
   ]
  },
  {
   "cell_type": "code",
   "execution_count": null,
   "id": "ac7c9886",
   "metadata": {},
   "outputs": [],
   "source": []
  }
 ],
 "metadata": {
  "kernelspec": {
   "display_name": "Python 3 (ipykernel)",
   "language": "python",
   "name": "python3"
  },
  "language_info": {
   "codemirror_mode": {
    "name": "ipython",
    "version": 3
   },
   "file_extension": ".py",
   "mimetype": "text/x-python",
   "name": "python",
   "nbconvert_exporter": "python",
   "pygments_lexer": "ipython3",
   "version": "3.8.10"
  }
 },
 "nbformat": 4,
 "nbformat_minor": 5
}
